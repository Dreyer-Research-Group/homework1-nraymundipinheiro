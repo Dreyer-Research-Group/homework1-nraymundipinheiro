{
 "cells": [
  {
   "cell_type": "markdown",
   "id": "f1492b97",
   "metadata": {},
   "source": [
    "# Problem 1: *Understanding Round-Off Error*\n",
    "\n",
    "Note, no program is required for this question. Consider a quadratic equation of the form $ax^2 + bx + c = 0$. The two solutions of this are: $$x = \\frac{- b \\pm \\sqrt{b^2 - 4ac}}{2a}.$$"
   ]
  },
  {
   "cell_type": "markdown",
   "id": "9595a860",
   "metadata": {},
   "source": [
    "<div style=\"border: 1px solid white; max-width: 97%; padding: 8px\">\n",
    "\n",
    "#### Part A\n",
    "\n",
    "Explain how this expression may be problematic with respect to round-off errors if $b$ is much larger than $a$ and $c$. Recall that such errors often occur when subtracting close large numbers.\n",
    "\n",
    "</div>"
   ]
  },
  {
   "cell_type": "markdown",
   "id": "abe4a0b5",
   "metadata": {},
   "source": [
    "$b \\gg a,c$ implies $b^2 \\gg ac$. We can assume $b$ is larger enough that $b^2 \\gg 4ac$. This means that $\\sqrt{b^2 - 4ac}$ will be a number slight smaller than $b$ (let's call it $b_*$). The difference potentially introduces a round-off error, since floating point numbers only store a small number of digits. If $b$ is large enough that it takes most of the available bits, we may lose the precision from $ac$.\n",
    "\n",
    "We end up with $$x = \\frac{-b \\pm b_*}{2a}.$$ Assume $b > 0$. We have to roots: $$x_+ = \\frac{-b + b_*}{2a}$$ and $$x_- = \\frac{-b - b_*}{2a}.$$\n",
    "\n",
    "Consider $x_+$ first. Since both $b$ and $b_*$ are large numbers with only a very small difference, we encounter another round-off error. The precision from $ac$ that was lost is propagated onto $b_*$, and it is again propagated here. Since $b$ and $b_*$ are opposite signs, only the round-off errors remain to be divided by $2a$.\n",
    "\n",
    "For $x_-$, however, since both numbers add up, we don't have the same problem. We're not going to only depend on the round-off error being left: the error here would be overshadowed by the actual value, given they will be many bits apart."
   ]
  },
  {
   "cell_type": "markdown",
   "id": "f6ae1660",
   "metadata": {},
   "source": [
    "<div style=\"border: 1px solid white; max-width: 97%; padding: 8px\">\n",
    "\n",
    "#### Part B\n",
    "\n",
    "Provide an alternative expression that will have smaller errors in the situation you describe in part A. *Hint: The same trick should work as for the “round-off error example” in lecture 1.*\n",
    "\n",
    "</div>"
   ]
  },
  {
   "cell_type": "markdown",
   "id": "eb7c75af",
   "metadata": {},
   "source": [
    "Following the round-off error example from lecture 1, let's first dealth with $x_+$:\n",
    "\n",
    "$$\n",
    "\\frac{1}{2a} \\Big(\\sqrt{b^2 - 4ac} - \\sqrt{b^2}\\Big) \\Bigg( \\frac{\\sqrt{b^2 - 4ac} + \\sqrt{b^2}}{\\sqrt{b^2 - 4ac} + \\sqrt{b^2}} \\Bigg) = - \\frac{2c}{\\sqrt{b^2 - 4ac} + \\sqrt{b^2}}\n",
    "$$\n",
    "\n",
    "Now, with $x_-$:\n",
    "\n",
    "$$\n",
    "- \\frac{1}{2a} \\Big(\\sqrt{b^2 - 4ac} + \\sqrt{b^2}\\Big) \\Bigg( \\frac{\\sqrt{b^2 - 4ac} - \\sqrt{b^2}}{\\sqrt{b^2 - 4ac} - \\sqrt{b^2}} \\Bigg) = \\frac{2c}{\\sqrt{b^2 - 4ac} - \\sqrt{b^2}}\n",
    "$$\n",
    "\n",
    "The result is $$x_\\pm = \\mp \\frac{2c}{\\sqrt{b^2 - 4ac} \\pm b}.$$"
   ]
  }
 ],
 "metadata": {
  "language_info": {
   "name": "python"
  }
 },
 "nbformat": 4,
 "nbformat_minor": 5
}
